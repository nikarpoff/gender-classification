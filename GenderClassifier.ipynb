{
  "nbformat": 4,
  "nbformat_minor": 0,
  "metadata": {
    "colab": {
      "provenance": [],
      "gpuType": "T4",
      "include_colab_link": true
    },
    "kernelspec": {
      "name": "python3",
      "display_name": "Python 3"
    },
    "language_info": {
      "name": "python"
    },
    "accelerator": "GPU"
  },
  "cells": [
    {
      "cell_type": "markdown",
      "metadata": {
        "id": "view-in-github",
        "colab_type": "text"
      },
      "source": [
        "<a href=\"https://colab.research.google.com/github/nikarpoff/gender-classification/blob/main/GenderClassifier.ipynb\" target=\"_parent\"><img src=\"https://colab.research.google.com/assets/colab-badge.svg\" alt=\"Open In Colab\"/></a>"
      ]
    },
    {
      "cell_type": "markdown",
      "source": [
        "**Gender classification task**"
      ],
      "metadata": {
        "id": "FapeuGPaM-dj"
      }
    },
    {
      "cell_type": "markdown",
      "source": [
        "В данном документе представлено решение для определения пола человека по фотографии на основе нейросетевых моделей.\n",
        "\n",
        "Для вычисления вектора признаков (эмбеддингов) использовалась модель CLIP ViT-B/16, которая оперирует патчами изображений (каждый патч - 16x16, каждое входящее изображение - 224x224).\n",
        "\n",
        "На основе вектора признаков своё предположение о поле человека делает многослойный персептрон."
      ],
      "metadata": {
        "id": "TeJfLBgzNPW0"
      }
    },
    {
      "cell_type": "markdown",
      "source": [
        "Для тестирования модели необходима модель CLIP:\n"
      ],
      "metadata": {
        "id": "D5b003eRBWGT"
      }
    },
    {
      "cell_type": "code",
      "execution_count": null,
      "metadata": {
        "id": "NhhPfnwfPHCx",
        "colab": {
          "base_uri": "https://localhost:8080/"
        },
        "outputId": "6022ac7e-8506-4347-8504-ff6171660d31",
        "collapsed": true
      },
      "outputs": [
        {
          "output_type": "stream",
          "name": "stdout",
          "text": [
            "Collecting git+https://github.com/openai/CLIP.git\n",
            "  Cloning https://github.com/openai/CLIP.git to /tmp/pip-req-build-u51opye8\n",
            "  Running command git clone --filter=blob:none --quiet https://github.com/openai/CLIP.git /tmp/pip-req-build-u51opye8\n",
            "  Resolved https://github.com/openai/CLIP.git to commit dcba3cb2e2827b402d2701e7e1c7d9fed8a20ef1\n",
            "  Preparing metadata (setup.py) ... \u001b[?25l\u001b[?25hdone\n",
            "Collecting ftfy (from clip==1.0)\n",
            "  Downloading ftfy-6.2.0-py3-none-any.whl (54 kB)\n",
            "\u001b[2K     \u001b[90m━━━━━━━━━━━━━━━━━━━━━━━━━━━━━━━━━━━━━━━━\u001b[0m \u001b[32m54.4/54.4 kB\u001b[0m \u001b[31m857.7 kB/s\u001b[0m eta \u001b[36m0:00:00\u001b[0m\n",
            "\u001b[?25hRequirement already satisfied: packaging in /usr/local/lib/python3.10/dist-packages (from clip==1.0) (24.1)\n",
            "Requirement already satisfied: regex in /usr/local/lib/python3.10/dist-packages (from clip==1.0) (2024.5.15)\n",
            "Requirement already satisfied: tqdm in /usr/local/lib/python3.10/dist-packages (from clip==1.0) (4.66.4)\n",
            "Requirement already satisfied: torch in /usr/local/lib/python3.10/dist-packages (from clip==1.0) (2.3.0+cu121)\n",
            "Requirement already satisfied: torchvision in /usr/local/lib/python3.10/dist-packages (from clip==1.0) (0.18.0+cu121)\n",
            "Requirement already satisfied: wcwidth<0.3.0,>=0.2.12 in /usr/local/lib/python3.10/dist-packages (from ftfy->clip==1.0) (0.2.13)\n",
            "Requirement already satisfied: filelock in /usr/local/lib/python3.10/dist-packages (from torch->clip==1.0) (3.15.4)\n",
            "Requirement already satisfied: typing-extensions>=4.8.0 in /usr/local/lib/python3.10/dist-packages (from torch->clip==1.0) (4.12.2)\n",
            "Requirement already satisfied: sympy in /usr/local/lib/python3.10/dist-packages (from torch->clip==1.0) (1.13.0)\n",
            "Requirement already satisfied: networkx in /usr/local/lib/python3.10/dist-packages (from torch->clip==1.0) (3.3)\n",
            "Requirement already satisfied: jinja2 in /usr/local/lib/python3.10/dist-packages (from torch->clip==1.0) (3.1.4)\n",
            "Requirement already satisfied: fsspec in /usr/local/lib/python3.10/dist-packages (from torch->clip==1.0) (2023.6.0)\n",
            "Collecting nvidia-cuda-nvrtc-cu12==12.1.105 (from torch->clip==1.0)\n",
            "  Using cached nvidia_cuda_nvrtc_cu12-12.1.105-py3-none-manylinux1_x86_64.whl (23.7 MB)\n",
            "Collecting nvidia-cuda-runtime-cu12==12.1.105 (from torch->clip==1.0)\n",
            "  Using cached nvidia_cuda_runtime_cu12-12.1.105-py3-none-manylinux1_x86_64.whl (823 kB)\n",
            "Collecting nvidia-cuda-cupti-cu12==12.1.105 (from torch->clip==1.0)\n",
            "  Using cached nvidia_cuda_cupti_cu12-12.1.105-py3-none-manylinux1_x86_64.whl (14.1 MB)\n",
            "Collecting nvidia-cudnn-cu12==8.9.2.26 (from torch->clip==1.0)\n",
            "  Using cached nvidia_cudnn_cu12-8.9.2.26-py3-none-manylinux1_x86_64.whl (731.7 MB)\n",
            "Collecting nvidia-cublas-cu12==12.1.3.1 (from torch->clip==1.0)\n",
            "  Using cached nvidia_cublas_cu12-12.1.3.1-py3-none-manylinux1_x86_64.whl (410.6 MB)\n",
            "Collecting nvidia-cufft-cu12==11.0.2.54 (from torch->clip==1.0)\n",
            "  Using cached nvidia_cufft_cu12-11.0.2.54-py3-none-manylinux1_x86_64.whl (121.6 MB)\n",
            "Collecting nvidia-curand-cu12==10.3.2.106 (from torch->clip==1.0)\n",
            "  Using cached nvidia_curand_cu12-10.3.2.106-py3-none-manylinux1_x86_64.whl (56.5 MB)\n",
            "Collecting nvidia-cusolver-cu12==11.4.5.107 (from torch->clip==1.0)\n",
            "  Using cached nvidia_cusolver_cu12-11.4.5.107-py3-none-manylinux1_x86_64.whl (124.2 MB)\n",
            "Collecting nvidia-cusparse-cu12==12.1.0.106 (from torch->clip==1.0)\n",
            "  Using cached nvidia_cusparse_cu12-12.1.0.106-py3-none-manylinux1_x86_64.whl (196.0 MB)\n",
            "Collecting nvidia-nccl-cu12==2.20.5 (from torch->clip==1.0)\n",
            "  Using cached nvidia_nccl_cu12-2.20.5-py3-none-manylinux2014_x86_64.whl (176.2 MB)\n",
            "Collecting nvidia-nvtx-cu12==12.1.105 (from torch->clip==1.0)\n",
            "  Using cached nvidia_nvtx_cu12-12.1.105-py3-none-manylinux1_x86_64.whl (99 kB)\n",
            "Requirement already satisfied: triton==2.3.0 in /usr/local/lib/python3.10/dist-packages (from torch->clip==1.0) (2.3.0)\n",
            "Collecting nvidia-nvjitlink-cu12 (from nvidia-cusolver-cu12==11.4.5.107->torch->clip==1.0)\n",
            "  Downloading nvidia_nvjitlink_cu12-12.5.82-py3-none-manylinux2014_x86_64.whl (21.3 MB)\n",
            "\u001b[2K     \u001b[90m━━━━━━━━━━━━━━━━━━━━━━━━━━━━━━━━━━━━━━━━\u001b[0m \u001b[32m21.3/21.3 MB\u001b[0m \u001b[31m58.3 MB/s\u001b[0m eta \u001b[36m0:00:00\u001b[0m\n",
            "\u001b[?25hRequirement already satisfied: numpy in /usr/local/lib/python3.10/dist-packages (from torchvision->clip==1.0) (1.25.2)\n",
            "Requirement already satisfied: pillow!=8.3.*,>=5.3.0 in /usr/local/lib/python3.10/dist-packages (from torchvision->clip==1.0) (9.4.0)\n",
            "Requirement already satisfied: MarkupSafe>=2.0 in /usr/local/lib/python3.10/dist-packages (from jinja2->torch->clip==1.0) (2.1.5)\n",
            "Requirement already satisfied: mpmath<1.4,>=1.1.0 in /usr/local/lib/python3.10/dist-packages (from sympy->torch->clip==1.0) (1.3.0)\n",
            "Building wheels for collected packages: clip\n",
            "  Building wheel for clip (setup.py) ... \u001b[?25l\u001b[?25hdone\n",
            "  Created wheel for clip: filename=clip-1.0-py3-none-any.whl size=1369490 sha256=ce688c00000fa2013740e21f54d438ec0917064d6a726e2425a8295033edca35\n",
            "  Stored in directory: /tmp/pip-ephem-wheel-cache-p8ydn7x1/wheels/da/2b/4c/d6691fa9597aac8bb85d2ac13b112deb897d5b50f5ad9a37e4\n",
            "Successfully built clip\n",
            "Installing collected packages: nvidia-nvtx-cu12, nvidia-nvjitlink-cu12, nvidia-nccl-cu12, nvidia-curand-cu12, nvidia-cufft-cu12, nvidia-cuda-runtime-cu12, nvidia-cuda-nvrtc-cu12, nvidia-cuda-cupti-cu12, nvidia-cublas-cu12, ftfy, nvidia-cusparse-cu12, nvidia-cudnn-cu12, nvidia-cusolver-cu12, clip\n",
            "Successfully installed clip-1.0 ftfy-6.2.0 nvidia-cublas-cu12-12.1.3.1 nvidia-cuda-cupti-cu12-12.1.105 nvidia-cuda-nvrtc-cu12-12.1.105 nvidia-cuda-runtime-cu12-12.1.105 nvidia-cudnn-cu12-8.9.2.26 nvidia-cufft-cu12-11.0.2.54 nvidia-curand-cu12-10.3.2.106 nvidia-cusolver-cu12-11.4.5.107 nvidia-cusparse-cu12-12.1.0.106 nvidia-nccl-cu12-2.20.5 nvidia-nvjitlink-cu12-12.5.82 nvidia-nvtx-cu12-12.1.105\n"
          ]
        }
      ],
      "source": [
        "!pip install git+https://github.com/openai/CLIP.git"
      ]
    },
    {
      "cell_type": "markdown",
      "source": [
        "Загрузите модель, обученную на CelebA (200.000 изображений, 5 эпох) и датасет с реальными данными:"
      ],
      "metadata": {
        "id": "AzFXROqkdjiG"
      }
    },
    {
      "cell_type": "code",
      "source": [
        "import os\n",
        "\n",
        "import gdown\n",
        "import zipfile\n",
        "\n",
        "import torch\n",
        "import clip\n",
        "\n",
        "import pandas as pd\n",
        "\n",
        "from torch import nn\n",
        "from torch.utils.data import Dataset\n",
        "from torchvision import transforms\n",
        "\n",
        "from PIL import Image\n",
        "\n",
        "\n",
        "class CustomFacesDataset(Dataset):\n",
        "    def __init__(self, dataframe, base_path: str):\n",
        "        self.dataframe = dataframe\n",
        "        self.base_path = base_path\n",
        "\n",
        "    def __len__(self):\n",
        "        return len(self.dataframe)\n",
        "\n",
        "    def __getitem__(self, idx):\n",
        "        # Get data from dataframe.\n",
        "        row = self.dataframe.iloc[idx]\n",
        "        image_path = row['path']\n",
        "        gender = int(row['gender'])\n",
        "\n",
        "        # Open image.\n",
        "        image = Image.open(f\"{self.base_path}/{image_path}\").convert('RGB')\n",
        "\n",
        "        # Cast gender to tensor\n",
        "        gender = torch.tensor(gender, dtype=torch.long)\n",
        "\n",
        "        # Apply transform.\n",
        "        transform = transforms.Compose([\n",
        "            transforms.Resize((224, 224)),\n",
        "            transforms.ToTensor(),\n",
        "            transforms.Normalize(mean=[0.485, 0.456, 0.406], std=[0.229, 0.224, 0.225])\n",
        "        ])\n",
        "\n",
        "        tensor = transform(image)\n",
        "\n",
        "        target = (gender.unsqueeze(-1).type(torch.float), image_path)\n",
        "\n",
        "        return tensor, target\n",
        "\n",
        "\n",
        "# Load model.\n",
        "output_model = 'model.pth'\n",
        "output_model_py = 'model.py'\n",
        "device = torch.device('cuda')\n",
        "\n",
        "if not os.path.exists(output_model_py):\n",
        "    url_model = \"https://drive.google.com/uc?export=download&id=1gSQvKWJoRDJ5sC_lN0x2RNazEqyjZkOL\"\n",
        "    gdown.download(url_model, output_model_py, quiet=False)\n",
        "\n",
        "from model import GenderClassifier\n",
        "\n",
        "if not os.path.exists(output_model):\n",
        "    url_model = \"https://drive.google.com/uc?export=download&id=1dWBZar9KT9BqPmsyHqf1FUPtNsopHX6D\"\n",
        "    gdown.download(url_model, output_model, quiet=False)\n",
        "\n",
        "model = torch.load(output_model)\n",
        "\n",
        "# Load dataset.\n",
        "output_images = 'images.zip'\n",
        "output_data = 'data.csv'\n",
        "\n",
        "if not os.path.exists(output_images):\n",
        "    url_images = \"https://drive.google.com/uc?export=download&id=15dxFSC0-wJrhG7M-OdeWW08lg0stXkMl\"\n",
        "    gdown.download(url_images, output_images, quiet=False)\n",
        "\n",
        "    with zipfile.ZipFile(output_images, 'r') as zip_ref:\n",
        "      zip_ref.extractall('/content/images')\n",
        "\n",
        "if not os.path.exists(output_data):\n",
        "    url_data = \"https://drive.google.com/uc?export=download&id=1EEMy97BZF9sKARdrSZLXMIvBGNzugyy4\"\n",
        "    gdown.download(url_data, output_data, quiet=False)\n",
        "\n",
        "# Read csv.\n",
        "base_path = '/content/images'\n",
        "df = pd.read_csv('data.csv')\n",
        "\n",
        "# Initialize dataset and dataloader.\n",
        "data = CustomFacesDataset(df, base_path=base_path)"
      ],
      "metadata": {
        "id": "3Iha-EJYdsgp",
        "colab": {
          "base_uri": "https://localhost:8080/"
        },
        "outputId": "a4c1f9da-75e7-4f96-915d-e2fc5ef9ba9d",
        "collapsed": true
      },
      "execution_count": null,
      "outputs": [
        {
          "output_type": "stream",
          "name": "stderr",
          "text": [
            "Downloading...\n",
            "From (original): https://drive.google.com/uc?export=download&id=1gSQvKWJoRDJ5sC_lN0x2RNazEqyjZkOL\n",
            "From (redirected): https://drive.google.com/uc?export=download&id=1gSQvKWJoRDJ5sC_lN0x2RNazEqyjZkOL&confirm=t&uuid=d605cbe6-046d-4d3b-9fa5-e14c43ac5bd6\n",
            "To: /content/model.py\n",
            "100%|██████████| 1.09k/1.09k [00:00<00:00, 960kB/s]\n",
            "Downloading...\n",
            "From (original): https://drive.google.com/uc?export=download&id=1dWBZar9KT9BqPmsyHqf1FUPtNsopHX6D\n",
            "From (redirected): https://drive.google.com/uc?export=download&id=1dWBZar9KT9BqPmsyHqf1FUPtNsopHX6D&confirm=t&uuid=369d84b1-22fd-46e3-93dc-0595efb53484\n",
            "To: /content/model.pth\n",
            "100%|██████████| 351M/351M [00:12<00:00, 27.2MB/s]\n",
            "Downloading...\n",
            "From: https://drive.google.com/uc?export=download&id=15dxFSC0-wJrhG7M-OdeWW08lg0stXkMl\n",
            "To: /content/images.zip\n",
            "100%|██████████| 505k/505k [00:00<00:00, 68.5MB/s]\n",
            "Downloading...\n",
            "From: https://drive.google.com/uc?export=download&id=1EEMy97BZF9sKARdrSZLXMIvBGNzugyy4\n",
            "To: /content/data.csv\n",
            "100%|██████████| 1.68k/1.68k [00:00<00:00, 5.98MB/s]\n"
          ]
        }
      ]
    },
    {
      "cell_type": "markdown",
      "source": [
        "Теперь запустите тест на реальных данных:"
      ],
      "metadata": {
        "id": "UPppmhbt59QW"
      }
    },
    {
      "cell_type": "code",
      "source": [
        "import time\n",
        "\n",
        "def test(testing_model, dataloader, base_data_path, device, batch_size, loss_function):\n",
        "    size = len(dataloader.dataset)\n",
        "    num_batches = len(dataloader)\n",
        "\n",
        "    wrong_answers = []\n",
        "    map_labels = {\n",
        "        0: \"Female\",\n",
        "        1: \"Male\"\n",
        "    }\n",
        "\n",
        "    print(f\"Size of test dataset -> {size}\\n\"\n",
        "          f\"  Batch size -> {batch_size}\\n\"\n",
        "          f\"  Number of batches -> {num_batches}\")\n",
        "\n",
        "    test_loss, correct = 0., 0\n",
        "\n",
        "    print(\"\\nStart evaluation...\")\n",
        "\n",
        "    test_start = time.time()\n",
        "\n",
        "    with torch.no_grad():\n",
        "        for batch, (X, y) in enumerate(dataloader):\n",
        "            # Prepare inputs.\n",
        "            X, target = X.to(device), y[0][:].to(device)\n",
        "\n",
        "            # Generate prediction.\n",
        "            pred = testing_model(X.squeeze())\n",
        "            prob = pred\n",
        "\n",
        "            # Count metrics.\n",
        "            test_loss += loss_function(pred, target).item()\n",
        "            pred = torch.round(pred.squeeze())\n",
        "\n",
        "            for i in range(pred.shape[0]):\n",
        "                answer = y[0][i].item()\n",
        "\n",
        "                # If it is right prediction then increase correct\n",
        "                if pred[i] == target[i][0]:\n",
        "                    correct += 1\n",
        "                else:\n",
        "                    # Remember answer and prediction.\n",
        "                    text = (f\"Wrong answer for image {y[1][i]}. \"\n",
        "                            f\"Expected: {map_labels[answer]}. \"\n",
        "                            f\"Predicted: {map_labels[pred[i].item()]} with {prob[i].item():0.2f}\")\n",
        "\n",
        "                    print(f'{text}\\n')\n",
        "\n",
        "                    wrong_answers.append((f'{base_data_path}/{y[1][i]}', text))\n",
        "\n",
        "    test_loss /= num_batches\n",
        "    accuracy = 100 * correct / size\n",
        "\n",
        "    required_time = time.time() - test_start\n",
        "\n",
        "    print(f\"\\nTest Error: \\n Accuracy: {accuracy:>0.1f}%, Avg loss: {test_loss:>8f}, \"\n",
        "          f\"Required time: {required_time:0.3f} s\\n\")\n",
        "\n",
        "    return accuracy, test_loss, wrong_answers, required_time\n",
        "\n",
        "\n",
        "# Choose batch size.\n",
        "batch_size = 16\n",
        "\n",
        "# Use binary cross entropy loss\n",
        "loss_function = nn.BCELoss()\n",
        "dataloader = torch.utils.data.DataLoader(data, batch_size=batch_size)\n",
        "\n",
        "test(model, dataloader, \"/content/images\", device, batch_size, loss_function)"
      ],
      "metadata": {
        "colab": {
          "base_uri": "https://localhost:8080/"
        },
        "id": "rabSaUzC589r",
        "outputId": "6733639e-8a5a-4599-a69b-cb0535ad64cb"
      },
      "execution_count": null,
      "outputs": [
        {
          "output_type": "stream",
          "name": "stdout",
          "text": [
            "Size of test dataset -> 73\n",
            "  Batch size -> 16\n",
            "  Number of batches -> 5\n",
            "\n",
            "Start evaluation...\n",
            "Wrong answer for image /images/0008.jpg. Expected: Female. Predicted: Male with 0.79\n",
            "\n",
            "Wrong answer for image /images/0027.jpg. Expected: Female. Predicted: Male with 0.97\n",
            "\n",
            "Wrong answer for image /images/0031.jpg. Expected: Female. Predicted: Male with 0.99\n",
            "\n",
            "Wrong answer for image /images/0037.jpg. Expected: Female. Predicted: Male with 1.00\n",
            "\n",
            "\n",
            "Test Error: \n",
            " Accuracy: 94.5%, Avg loss: 0.224868, Required time: 1.340 s\n",
            "\n"
          ]
        },
        {
          "output_type": "execute_result",
          "data": {
            "text/plain": [
              "(94.52054794520548,\n",
              " 0.2248677951269201,\n",
              " [('/content/images//images/0008.jpg',\n",
              "   'Wrong answer for image /images/0008.jpg. Expected: Female. Predicted: Male with 0.79'),\n",
              "  ('/content/images//images/0027.jpg',\n",
              "   'Wrong answer for image /images/0027.jpg. Expected: Female. Predicted: Male with 0.97'),\n",
              "  ('/content/images//images/0031.jpg',\n",
              "   'Wrong answer for image /images/0031.jpg. Expected: Female. Predicted: Male with 0.99'),\n",
              "  ('/content/images//images/0037.jpg',\n",
              "   'Wrong answer for image /images/0037.jpg. Expected: Female. Predicted: Male with 1.00')],\n",
              " 1.3402738571166992)"
            ]
          },
          "metadata": {},
          "execution_count": 3
        }
      ]
    },
    {
      "cell_type": "markdown",
      "source": [
        "Точность данной модели на таких данных составляет 94.5%, ошибки встречаются на подобных фотографиях:"
      ],
      "metadata": {
        "id": "_eNv1hJygUp1"
      }
    },
    {
      "cell_type": "markdown",
      "source": [
        "![0037.jpg](data:image/jpeg;base64,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)\n",
        "\n",
        "![0031.jpg](data:image/jpeg;base64,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)\n",
        "\n",
        "![0027.jpg](data:image/jpeg;base64,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)\n",
        "\n",
        "![0008.jpg](data:image/jpeg;base64,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)"
      ],
      "metadata": {
        "id": "MfNIX0VK3fQs"
      }
    },
    {
      "cell_type": "markdown",
      "source": [
        "Для сравнения, точность на тестовых данных CelebA составляет 99.1%:\n",
        "\n",
        "![image.png](data:image/png;base64,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)"
      ],
      "metadata": {
        "id": "4S8bFSyNgdWm"
      }
    },
    {
      "cell_type": "markdown",
      "source": [
        "Теперь можно попробовать дообучить модель на \"реальных данных\":"
      ],
      "metadata": {
        "id": "yy38RAXd6KaB"
      }
    },
    {
      "cell_type": "code",
      "source": [
        "from sklearn.model_selection import KFold\n",
        "\n",
        "output_teacher = \"teacher.py\"\n",
        "\n",
        "if not os.path.exists(output_teacher):\n",
        "    url_teacher = \"https://drive.google.com/uc?export=download&id=1FlpmtUjgLqYYGSeWDKVZ_AeB_IvRQXPk\"\n",
        "    gdown.download(url_teacher, output_teacher, quiet=False)\n",
        "\n",
        "from teacher import Teacher\n",
        "\n",
        "# Use k-fold with splitting in 3 folds.\n",
        "splits = 3\n",
        "k_fold = KFold(n_splits=splits, shuffle=True)\n",
        "\n",
        "# Choose optimizers, hyperparams and loss function\n",
        "optimizer = torch.optim.Adam(filter(lambda p: p.requires_grad, model.parameters()), lr=0.001)\n",
        "\n",
        "epochs = 1\n",
        "batch_size = 17\n",
        "\n",
        "model_name = 'gc-simple-dnn'\n",
        "\n",
        "teacher = Teacher(device=device,\n",
        "                  model_classifier=model,\n",
        "                  model_name=model_name,\n",
        "                  batch_size=batch_size,\n",
        "                  loss_function=loss_function,\n",
        "                  optimizer=optimizer,\n",
        "                  )\n",
        "\n",
        "print(\"\\nStart training...\\n\")\n",
        "\n",
        "for fold, (train_ids, test_ids) in enumerate(k_fold.split(data)):\n",
        "    # Print\n",
        "    print(f'\\nFold -> {fold} ---------------------')\n",
        "\n",
        "    # Sample elements randomly from a given list of ids, no replacement.\n",
        "    train_subsampler = torch.utils.data.SubsetRandomSampler(train_ids)\n",
        "    test_subsampler = torch.utils.data.SubsetRandomSampler(test_ids)\n",
        "\n",
        "    # Define data loaders for training and testing data in this fold\n",
        "    train_dataloader = torch.utils.data.DataLoader(\n",
        "        data,\n",
        "        batch_size=batch_size, sampler=train_subsampler)\n",
        "    test_dataloader = torch.utils.data.DataLoader(\n",
        "        data,\n",
        "        batch_size=batch_size, sampler=test_subsampler)\n",
        "\n",
        "    for epoch in range(epochs):\n",
        "        # teacher.test(test_dataloader)\n",
        "        print(f\"\\nEpoch {epoch + 1}/{epochs} -----------------\")\n",
        "        teacher.train(train_dataloader)\n",
        "        print(\"\\nStart testing...\\n\")\n",
        "        teacher.test(test_dataloader)"
      ],
      "metadata": {
        "colab": {
          "base_uri": "https://localhost:8080/"
        },
        "id": "mFRhysVp5w3q",
        "outputId": "9b6c4aa8-4884-4347-d5ab-bbd16a248bf9"
      },
      "execution_count": null,
      "outputs": [
        {
          "output_type": "stream",
          "name": "stderr",
          "text": [
            "Downloading...\n",
            "From (original): https://drive.google.com/uc?export=download&id=1FlpmtUjgLqYYGSeWDKVZ_AeB_IvRQXPk\n",
            "From (redirected): https://drive.google.com/uc?export=download&id=1FlpmtUjgLqYYGSeWDKVZ_AeB_IvRQXPk&confirm=t&uuid=fdbc6347-645f-49a5-94eb-108596b2fa15\n",
            "To: /content/teacher.py\n",
            "100%|██████████| 2.86k/2.86k [00:00<00:00, 8.59MB/s]\n"
          ]
        },
        {
          "output_type": "stream",
          "name": "stdout",
          "text": [
            "Start initializing Teacher\n",
            "Using cuda device\n",
            "Initializing models\n",
            "Teacher initialized. Model is ready to be trained\n",
            "\n",
            "Start training...\n",
            "\n",
            "\n",
            "Fold -> 0 ---------------------\n",
            "\n",
            "Epoch 1/1 -----------------\n",
            "\n",
            "Start testing...\n",
            "\n",
            "Test Error: \n",
            " Accuracy: 100.0%, Avg batch loss: 0.001136 \n",
            "\n",
            "\n",
            "Fold -> 1 ---------------------\n",
            "\n",
            "Epoch 1/1 -----------------\n",
            "\n",
            "Start testing...\n",
            "\n",
            "Test Error: \n",
            " Accuracy: 95.8%, Avg batch loss: 0.033661 \n",
            "\n",
            "\n",
            "Fold -> 2 ---------------------\n",
            "\n",
            "Epoch 1/1 -----------------\n",
            "\n",
            "Start testing...\n",
            "\n",
            "Test Error: \n",
            " Accuracy: 100.0%, Avg batch loss: 0.000049 \n",
            "\n"
          ]
        }
      ]
    },
    {
      "cell_type": "markdown",
      "source": [
        "Ввиду небольшого размера набора данных (73 изображения), для модели не составило труда запомнить новые изображения и точность составила 100%. Однако вывод об обобщающих способностях нейронной сети остаётся положительным, т.к. результат в 94% точности на фото, которые искуственная нейронная сеть не видела (обучалась на фото с идеальными условиями, освещенностью, лица строго в анфас), является неплохим результатом."
      ],
      "metadata": {
        "id": "Rel1VZj4ZCFQ"
      }
    }
  ]
}